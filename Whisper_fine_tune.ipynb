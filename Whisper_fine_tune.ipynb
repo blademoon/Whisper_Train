{
 "cells": [
  {
   "cell_type": "markdown",
   "id": "81b1b3eb-dfbd-41cb-9656-26f992163aae",
   "metadata": {},
   "source": [
    "# Предварительная настройка среды разработки"
   ]
  },
  {
   "cell_type": "markdown",
   "id": "bd3f0f01-dd3a-4bfb-9037-c54e8a0a0184",
   "metadata": {
    "jp-MarkdownHeadingCollapsed": true,
    "tags": []
   },
   "source": [
    "## Google Collab"
   ]
  },
  {
   "cell_type": "markdown",
   "id": "0e45f27e-f772-4937-b7dd-ba6837555684",
   "metadata": {
    "jp-MarkdownHeadingCollapsed": true,
    "tags": []
   },
   "source": [
    "### Подключение сервисов Google"
   ]
  },
  {
   "cell_type": "code",
   "execution_count": null,
   "id": "d42e5335-b715-4cf6-9681-c954c58f28f5",
   "metadata": {},
   "outputs": [],
   "source": [
    "from google.colab import drive\n",
    "drive.mount('/content/drive')\n",
    "\n",
    "print(\"Setup Complete\")"
   ]
  },
  {
   "cell_type": "markdown",
   "id": "f9e26633-ae35-4b63-818c-d2ead300d88e",
   "metadata": {
    "jp-MarkdownHeadingCollapsed": true,
    "tags": []
   },
   "source": [
    "### Установка необходимых библиотек"
   ]
  },
  {
   "cell_type": "code",
   "execution_count": null,
   "id": "798cb81e-2303-4cba-bc69-30d3d059ccfe",
   "metadata": {},
   "outputs": [],
   "source": []
  },
  {
   "cell_type": "markdown",
   "id": "58b24bcf-fda3-4c4b-86ae-5979b36ef554",
   "metadata": {},
   "source": [
    "## Локальная среда"
   ]
  },
  {
   "cell_type": "markdown",
   "id": "d8a8e550-e5d6-4476-96c9-a37e30016c33",
   "metadata": {},
   "source": [
    "### Проверка доступности GPU"
   ]
  },
  {
   "cell_type": "markdown",
   "id": "9ed895ca-e0e7-478d-9020-f3cc7b7f937f",
   "metadata": {},
   "source": [
    "Чтобы получить GPU, нажмите _Runtime_ -> _Change runtime type_, затем измените _Hardware accelerator_ с _None_ на _GPU_.\n",
    "\n",
    "Мы можем проверить, что нам назначен GPU, и просмотреть его характеристики:"
   ]
  },
  {
   "cell_type": "code",
   "execution_count": 1,
   "id": "8217a839-6751-4ae2-a1a4-9544a4496546",
   "metadata": {},
   "outputs": [
    {
     "name": "stdout",
     "output_type": "stream",
     "text": [
      "Wed Jan 11 15:49:30 2023       \n",
      "+-----------------------------------------------------------------------------+\n",
      "| NVIDIA-SMI 527.92.01    Driver Version: 528.02       CUDA Version: 12.0     |\n",
      "|-------------------------------+----------------------+----------------------+\n",
      "| GPU  Name        Persistence-M| Bus-Id        Disp.A | Volatile Uncorr. ECC |\n",
      "| Fan  Temp  Perf  Pwr:Usage/Cap|         Memory-Usage | GPU-Util  Compute M. |\n",
      "|                               |                      |               MIG M. |\n",
      "|===============================+======================+======================|\n",
      "|   0  NVIDIA GeForce ...  On   | 00000000:01:00.0 Off |                  N/A |\n",
      "| N/A   42C    P8     6W /  74W |      9MiB /  4096MiB |      0%      Default |\n",
      "|                               |                      |                  N/A |\n",
      "+-------------------------------+----------------------+----------------------+\n",
      "                                                                               \n",
      "+-----------------------------------------------------------------------------+\n",
      "| Processes:                                                                  |\n",
      "|  GPU   GI   CI        PID   Type   Process name                  GPU Memory |\n",
      "|        ID   ID                                                   Usage      |\n",
      "|=============================================================================|\n",
      "|    0   N/A  N/A        29      G   /Xwayland                       N/A      |\n",
      "+-----------------------------------------------------------------------------+\n"
     ]
    }
   ],
   "source": [
    "!nvidia-smi"
   ]
  },
  {
   "cell_type": "markdown",
   "id": "fdc17294-0ccd-4844-a52d-5b09b0a5f4e3",
   "metadata": {},
   "source": [
    "### Установка необходимых библиотек"
   ]
  },
  {
   "cell_type": "code",
   "execution_count": 12,
   "id": "d2e881c0-5258-47d4-8119-16c237bc8a14",
   "metadata": {},
   "outputs": [
    {
     "name": "stdout",
     "output_type": "stream",
     "text": [
      "Collecting package metadata (current_repodata.json): done\n",
      "Solving environment: done\n",
      "\n",
      "# All requested packages already installed.\n",
      "\n",
      "Library installation complete!\n"
     ]
    }
   ],
   "source": [
    "!conda install -y -c conda-forge transformers\n",
    "!conda install -y -c conda-forge datasets\n",
    "!conda install -y -c conda-forge librosa\n",
    "!conda install -c conda-forge ffmpeg\n",
    "!conda install -c conda-forge huggingface_hub\n",
    "\n",
    "!pip install --no-input evaluate\n",
    "!pip install --no-input jiwer\n",
    "!pip install --no-input gradio\n",
    "\n",
    "print(\"Library installation complete!\")"
   ]
  },
  {
   "cell_type": "markdown",
   "id": "3756687d-d234-4d16-990a-8d2000ef2652",
   "metadata": {},
   "source": [
    "### Загрузка необходимых модулей"
   ]
  },
  {
   "cell_type": "code",
   "execution_count": 22,
   "id": "9e6056b6-30b5-4d17-9f8d-2158e12b57c4",
   "metadata": {},
   "outputs": [
    {
     "name": "stdout",
     "output_type": "stream",
     "text": [
      "Required libraries/modules initialization complete!\n"
     ]
    }
   ],
   "source": [
    "from huggingface_hub import notebook_login\n",
    "from datasets import load_dataset, DatasetDict\n",
    "\n",
    "print(\"Required libraries/modules initialization complete!\")"
   ]
  },
  {
   "cell_type": "markdown",
   "id": "b9ecc953-8821-4064-97cc-dc17b5ccc74c",
   "metadata": {},
   "source": [
    "### Настройка окружения"
   ]
  },
  {
   "cell_type": "code",
   "execution_count": 15,
   "id": "c5f54433-bfb3-48f9-9ce7-a980d4c0a477",
   "metadata": {},
   "outputs": [
    {
     "data": {
      "application/vnd.jupyter.widget-view+json": {
       "model_id": "3456aa25cf7146019d2d612cedb108e5",
       "version_major": 2,
       "version_minor": 0
      },
      "text/plain": [
       "VBox(children=(HTML(value='<center> <img\\nsrc=https://huggingface.co/front/assets/huggingface_logo-noborder.sv…"
      ]
     },
     "metadata": {},
     "output_type": "display_data"
    },
    {
     "name": "stdout",
     "output_type": "stream",
     "text": [
      "Environment setup completed!\n"
     ]
    }
   ],
   "source": [
    "# Аутентификация ноутбука в HuggingFace HUB\n",
    "notebook_login()\n",
    "\n",
    "print(\"Environment setup completed!\")"
   ]
  },
  {
   "cell_type": "markdown",
   "id": "85da24b6-3178-4538-8cd5-57ff8b22aaba",
   "metadata": {},
   "source": [
    "# Загрузка набора данных"
   ]
  },
  {
   "cell_type": "markdown",
   "id": "90357e66-1041-4c4f-9e7e-d40d94cae25b",
   "metadata": {},
   "source": [
    "Используя 🤗 Datasets, загрузка и подготовка данных чрезвычайно проста. \n",
    "\n",
    "Мы можем загрузить и подготовить сплиты Common Voice всего одной строкой кода. \n",
    "\n",
    "Во-первых, убедитесь, что вы приняли условия использования на Hugging Face Hub: [mozilla-foundation/common_voice_11_0](https://huggingface.co/datasets/mozilla-foundation/common_voice_11_0). После принятия условий вы получите полный доступ к набору данных и сможете загружать данные локально.\n",
    "\n",
    "Мы объединим `train` и `validation` части набора данных, чтобы получить как можно больше данных для обучения. Мы будем использовать\n",
    "данных `test` в качестве нашего тестового набора:"
   ]
  },
  {
   "cell_type": "code",
   "execution_count": 33,
   "id": "5a82d17d-69bc-4e13-bdf1-4a058c367733",
   "metadata": {},
   "outputs": [
    {
     "name": "stderr",
     "output_type": "stream",
     "text": [
      "Found cached dataset common_voice_2_0 (/home/artyom/Whisper_Train/DATA/CACHE/mozilla-foundation___common_voice_2_0/ru/2.0.0/c093ea99a0b8cadf95dd03e2ba81d28119744728ae97cc6196fd0c17b9b7f079)\n",
      "Found cached dataset common_voice_2_0 (/home/artyom/Whisper_Train/DATA/CACHE/mozilla-foundation___common_voice_2_0/ru/2.0.0/c093ea99a0b8cadf95dd03e2ba81d28119744728ae97cc6196fd0c17b9b7f079)\n"
     ]
    },
    {
     "name": "stdout",
     "output_type": "stream",
     "text": [
      "DatasetDict({\n",
      "    train: Dataset({\n",
      "        features: ['client_id', 'path', 'audio', 'sentence', 'up_votes', 'down_votes', 'age', 'gender', 'accent', 'locale', 'segment'],\n",
      "        num_rows: 3898\n",
      "    })\n",
      "    test: Dataset({\n",
      "        features: ['client_id', 'path', 'audio', 'sentence', 'up_votes', 'down_votes', 'age', 'gender', 'accent', 'locale', 'segment'],\n",
      "        num_rows: 1561\n",
      "    })\n",
      "})\n"
     ]
    }
   ],
   "source": [
    "# Создадим словарь для хранения датасета\n",
    "common_voice = DatasetDict()\n",
    "\n",
    "common_voice[\"train\"] = load_dataset(\"mozilla-foundation/common_voice_2_0\", \"ru\", split=\"train+validation\", cache_dir=\"DATA/CACHE\", use_auth_token=True)\n",
    "common_voice[\"test\"] = load_dataset(\"mozilla-foundation/common_voice_2_0\", \"ru\", split=\"test\", cache_dir=\"DATA/CACHE\", use_auth_token=True)\n",
    "\n",
    "print(common_voice)"
   ]
  },
  {
   "cell_type": "markdown",
   "id": "5a920f22-3ede-492d-a7eb-9e764d3241c1",
   "metadata": {},
   "source": [
    "Большинство наборов данных ASR предоставляют только входные образцы аудио ('audio') и соответствующий транскрибированный текст ('sentence').  Common Voice содержит дополнительную метаданные, такие как `accent` и `locale`, которые мы можем игнорировать для ASR.\n",
    "\n",
    "Оставив блокнот максимально общим, мы рассматриваем только входной звук и транскрибированный текст для тонкой настройки, отбрасывая дополнительную информацию метаданных:"
   ]
  },
  {
   "cell_type": "code",
   "execution_count": 34,
   "id": "d79484dc-05a9-42b6-aed9-5289b0c60a58",
   "metadata": {},
   "outputs": [
    {
     "name": "stdout",
     "output_type": "stream",
     "text": [
      "DatasetDict({\n",
      "    train: Dataset({\n",
      "        features: ['audio', 'sentence'],\n",
      "        num_rows: 3898\n",
      "    })\n",
      "    test: Dataset({\n",
      "        features: ['audio', 'sentence'],\n",
      "        num_rows: 1561\n",
      "    })\n",
      "})\n"
     ]
    }
   ],
   "source": [
    "common_voice = common_voice.remove_columns([\"accent\", \"age\", \"client_id\", \"down_votes\", \"gender\", \"locale\", \"path\", \"segment\", \"up_votes\"])\n",
    "\n",
    "print(common_voice)"
   ]
  },
  {
   "cell_type": "markdown",
   "id": "65b572fa-b08d-4e94-8d20-6c341f23d1da",
   "metadata": {},
   "source": [
    "# Подготовка экстрактора признаков, токенизатора и данных"
   ]
  },
  {
   "cell_type": "code",
   "execution_count": null,
   "id": "eaab2bd1-ceaa-4861-9316-b83b9860ec90",
   "metadata": {},
   "outputs": [],
   "source": []
  },
  {
   "cell_type": "code",
   "execution_count": null,
   "id": "54f985f2-a2a2-4993-9a3f-ab1eb00d03e4",
   "metadata": {},
   "outputs": [],
   "source": []
  },
  {
   "cell_type": "markdown",
   "id": "2c05700a-1d52-49b8-be91-8ae94e9ac4cb",
   "metadata": {},
   "source": [
    "# Полезные ссылки"
   ]
  },
  {
   "cell_type": "markdown",
   "id": "56dc0302-ada3-488a-a3b5-670c6c5a0d34",
   "metadata": {},
   "source": [
    "- [Fine-Tune Whisper For Multilingual ASR with Transformers (Статья)](https://huggingface.co/blog/fine-tune-whisper)"
   ]
  }
 ],
 "metadata": {
  "kernelspec": {
   "display_name": "Python 3 (ipykernel)",
   "language": "python",
   "name": "python3"
  },
  "language_info": {
   "codemirror_mode": {
    "name": "ipython",
    "version": 3
   },
   "file_extension": ".py",
   "mimetype": "text/x-python",
   "name": "python",
   "nbconvert_exporter": "python",
   "pygments_lexer": "ipython3",
   "version": "3.10.8"
  }
 },
 "nbformat": 4,
 "nbformat_minor": 5
}
