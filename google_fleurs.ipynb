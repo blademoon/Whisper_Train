{
 "cells": [
  {
   "cell_type": "markdown",
   "id": "84cda0b1-135c-4b88-8a68-e23fc4d3e04e",
   "metadata": {},
   "source": [
    "# Дообучение Whisper на датасете Google Fleurs"
   ]
  },
  {
   "cell_type": "markdown",
   "id": "0bf35ef7-ebe7-4a2f-8cf5-c80ad90401f5",
   "metadata": {},
   "source": [
    "## 1. Загрузка датасета."
   ]
  },
  {
   "cell_type": "code",
   "execution_count": 5,
   "id": "d2010df1-c8c2-4654-8c76-a16c55a48ed5",
   "metadata": {},
   "outputs": [
    {
     "name": "stderr",
     "output_type": "stream",
     "text": [
      "Found cached dataset fleurs (/home/artyom/.cache/huggingface/datasets/google___fleurs/ru_ru/2.0.0/af82dbec419a815084fa63ebd5d5a9f24a6e9acdf9887b9e3b8c6bbd64e0b7ac)\n",
      "Found cached dataset fleurs (/home/artyom/.cache/huggingface/datasets/google___fleurs/ru_ru/2.0.0/af82dbec419a815084fa63ebd5d5a9f24a6e9acdf9887b9e3b8c6bbd64e0b7ac)\n"
     ]
    },
    {
     "name": "stdout",
     "output_type": "stream",
     "text": [
      "DatasetDict({\n",
      "    train: Dataset({\n",
      "        features: ['id', 'num_samples', 'path', 'audio', 'transcription', 'raw_transcription', 'gender', 'lang_id', 'language', 'lang_group_id'],\n",
      "        num_rows: 2918\n",
      "    })\n",
      "    test: Dataset({\n",
      "        features: ['id', 'num_samples', 'path', 'audio', 'transcription', 'raw_transcription', 'gender', 'lang_id', 'language', 'lang_group_id'],\n",
      "        num_rows: 775\n",
      "    })\n",
      "})\n",
      "Data download successfully completed!\n"
     ]
    }
   ],
   "source": [
    "from datasets import load_dataset, load_from_disk, DatasetDict\n",
    "\n",
    "dataset_hf_hub_path = \"google/fleurs\"\n",
    "dataset_lang = \"ru_ru\"\n",
    "\n",
    "# Создадим словарь для хранения датасета\n",
    "dataset = DatasetDict()\n",
    "\n",
    "dataset[\"train\"] = load_dataset(dataset_hf_hub_path, dataset_lang, split=\"train+validation\", use_auth_token=True)\n",
    "dataset[\"test\"] = load_dataset(dataset_hf_hub_path, dataset_lang, split=\"test\", use_auth_token=True)\n",
    "\n",
    "print(dataset)\n",
    "print(\"Data download successfully completed!\")"
   ]
  },
  {
   "cell_type": "markdown",
   "id": "996bd4f9-a344-4bd5-b8c0-255988ec886f",
   "metadata": {},
   "source": [
    "Удалим неиспользуемые столбцы:"
   ]
  },
  {
   "cell_type": "code",
   "execution_count": 8,
   "id": "4fda5cc6-7071-4c83-9c35-c2697068ae8a",
   "metadata": {},
   "outputs": [
    {
     "name": "stdout",
     "output_type": "stream",
     "text": [
      "DatasetDict({\n",
      "    train: Dataset({\n",
      "        features: ['audio', 'raw_transcription'],\n",
      "        num_rows: 2918\n",
      "    })\n",
      "    test: Dataset({\n",
      "        features: ['audio', 'raw_transcription'],\n",
      "        num_rows: 775\n",
      "    })\n",
      "})\n"
     ]
    }
   ],
   "source": [
    "dataset = dataset.remove_columns([\"id\", \"num_samples\", \"path\", \"transcription\", \"gender\", \"lang_id\", \"language\", \"lang_group_id\"])\n",
    "\n",
    "print(dataset)"
   ]
  },
  {
   "cell_type": "code",
   "execution_count": null,
   "id": "1a878c7f-5b43-473b-bf1e-ef07d271c7f1",
   "metadata": {},
   "outputs": [],
   "source": []
  }
 ],
 "metadata": {
  "kernelspec": {
   "display_name": "Python 3 (ipykernel)",
   "language": "python",
   "name": "python3"
  },
  "language_info": {
   "codemirror_mode": {
    "name": "ipython",
    "version": 3
   },
   "file_extension": ".py",
   "mimetype": "text/x-python",
   "name": "python",
   "nbconvert_exporter": "python",
   "pygments_lexer": "ipython3",
   "version": "3.10.12"
  }
 },
 "nbformat": 4,
 "nbformat_minor": 5
}
